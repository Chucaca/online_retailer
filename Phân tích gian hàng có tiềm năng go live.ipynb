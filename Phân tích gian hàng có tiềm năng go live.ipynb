{
 "cells": [
  {
   "cell_type": "code",
   "execution_count": 1,
   "metadata": {},
   "outputs": [
    {
     "data": {
      "text/html": [
       "<style>div.output_scroll { height: 44em; }</style>"
      ],
      "text/plain": [
       "<IPython.core.display.HTML object>"
      ]
     },
     "metadata": {},
     "output_type": "display_data"
    }
   ],
   "source": [
    "%matplotlib notebook\n",
    "\n",
    "import pandas as pd               \n",
    "import numpy as np                \n",
    "import matplotlib                 \n",
    "from matplotlib import pyplot as plt\n",
    "import matplotlib.transforms as transforms\n",
    "import seaborn as sns             \n",
    "import sklearn                    \n",
    "from sklearn.ensemble import RandomForestClassifier\n",
    "from sklearn.model_selection import train_test_split\n",
    "from sklearn.metrics import confusion_matrix\n",
    "from sklearn.preprocessing import LabelEncoder\n",
    "from sklearn import tree\n",
    "from sklearn.inspection import permutation_importance\n",
    "from sklearn.calibration import CalibratedClassifierCV\n",
    "from sklearn.model_selection import GridSearchCV, StratifiedKFold\n",
    "import scipy                      \n",
    "from scipy.stats import spearmanr\n",
    "from scipy.cluster import hierarchy\n",
    "import collections\n",
    "import requests\n",
    "import platform\n",
    "from IPython.core.display import display, HTML\n",
    "display(HTML(\"<style>div.output_scroll { height: 44em; }</style>\"))"
   ]
  },
  {
   "cell_type": "code",
   "execution_count": 2,
   "metadata": {},
   "outputs": [],
   "source": [
    "# remove the max column restriction for displaying on the screen\n",
    "pd.options.display.max_columns=None\n",
    "pd.set_option('display.max_rows', 600000)\n"
   ]
  },
  {
   "cell_type": "code",
   "execution_count": 3,
   "metadata": {
    "scrolled": true
   },
   "outputs": [],
   "source": [
    "online_ret = pd.read_csv(\"online_ret.txt\", sep=\";\")\n",
    "\n",
    "# remove blank from column names\n",
    "online_ret.columns = online_ret.columns.str.replace(\" \", \"\")\n",
    "\n",
    "# remove blank from clumn\n",
    "online_ret['sale_channel_standard'] = online_ret['sale_channel_standard'].str.strip()\n",
    "online_ret['v_industry_name'] = online_ret['v_industry_name'].str.strip()"
   ]
  },
  {
   "cell_type": "markdown",
   "metadata": {},
   "source": [
    "## Phân tích khả năng golive gian hàng KiotViet\n",
    "\n",
    "Một gian hàng bán hàng online ở KiotViet ta sẽ xét theo 4 yếu tố:\n",
    "* Gian hàng có kết nối với sàn TMĐT của KiotViet\n",
    "* Gian hàng có phát sinh giao dịch online (Hóa đơn, đơn hàng)\n",
    "* Gian hàng sử dụng FBPOS\n",
    "* Gian hàng sử dụng myKiot\n",
    "\n",
    "Sau đây ta sẽ phân tích chi tiết các gian hàng đang active của KiotViet dựa trên 4 yếu tố này"
   ]
  },
  {
   "cell_type": "code",
   "execution_count": 4,
   "metadata": {
    "scrolled": true
   },
   "outputs": [
    {
     "name": "stdout",
     "output_type": "stream",
     "text": [
      "Số lượng gian hàng active: 108264\n",
      "Số lượng gian hàng active kết nối sàn TMĐT qua KiotViet: 5854\n",
      "Số lượng gian hàng phát sinh giao dịch online: 10689\n",
      "Số lượng gian hàng sử dụng FBPOS: 2823\n",
      "Số lượng gian hàng sử dụng myKiot: 8017\n",
      "Số lượng gian hàng phát sinh giao dịch online hoặc sử dụng FBPOS hoặc myKiot hoặc kết nối sàn TMĐT: 18683\n"
     ]
    }
   ],
   "source": [
    "print(\"Số lượng gian hàng active: {}\".format(len(np.unique(online_ret['retailer_key']))))\n",
    "print(\"Số lượng gian hàng active kết nối sàn TMĐT qua KiotViet: {}\".format(len(np.unique(online_ret[online_ret['connected_status']==1]['retailer_key']))))\n",
    "print(\"Số lượng gian hàng phát sinh giao dịch online: {}\".format(len(np.unique(online_ret[online_ret['sale_channel_standard']=='Online']['retailer_key']))))\n",
    "print(\"Số lượng gian hàng sử dụng FBPOS: {}\".format(len(np.unique(online_ret[online_ret['fbpos']==1]['retailer_key']))))\n",
    "print(\"Số lượng gian hàng sử dụng myKiot: {}\".format(len(np.unique(online_ret[online_ret['mykiot']==1]['retailer_key']))))\n",
    "print(\"Số lượng gian hàng phát sinh giao dịch online hoặc sử dụng FBPOS hoặc myKiot hoặc kết nối sàn TMĐT: {}\".format(len(np.unique(online_ret[(online_ret['sale_channel_standard']=='Online')| \n",
    "                                                                                                                                    (online_ret['connected_status']==1)| \n",
    "                                                                                                                                    (online_ret['fbpos']==1)| \n",
    "                                                                                                                                    (online_ret['mykiot']==1)]['retailer_key']))))"
   ]
  },
  {
   "cell_type": "markdown",
   "metadata": {},
   "source": [
    "Số lượng các gian hàng online/active hiện tại chỉ chiếm khoảng 17%, khá thấp. Danh mục tiềm năng của ta sẽ gồm:\n",
    "* Các gian hàng có dấu hiệu online (phát sinh giao dịch online, sử dụng FBPOS và myKiot) nhưng chưa kết nối sàn TMĐT, ta sẽ dựa vào tín hiệu active, khối lượng giao dịch để tìm ra tập khách hàng tiềm năng nhất trong danh sách này\n",
    "* Các gian hàng không có dấu hiệu online nhưng có triển vọng go live, ta sẽ phân tích từ đặc điểm ngành để đi sâu vào các nhóm ngành này"
   ]
  },
  {
   "cell_type": "markdown",
   "metadata": {},
   "source": [
    "## Phân tích khả năng golive theo ngành hàng"
   ]
  },
  {
   "cell_type": "code",
   "execution_count": 5,
   "metadata": {},
   "outputs": [
    {
     "name": "stdout",
     "output_type": "stream",
     "text": [
      "Số lượng gian hàng theo các sale channel:\n",
      " 0    97016\n",
      "2     9931\n",
      "4      716\n",
      "3      559\n",
      "1       42\n",
      "Name: online_status, dtype: int64\n"
     ]
    }
   ],
   "source": [
    "# Gán nhán tình trạng phát sinh giao dịch online của gian hàng\n",
    "channel = online_ret.groupby('retailer_key')['sale_channel_standard'].apply(np.unique).apply(lambda x: x.sum()).reset_index()\n",
    "def label_online(channel):\n",
    "    if channel == 'Other':\n",
    "        return 0\n",
    "    elif channel == 'Online':\n",
    "        return 1\n",
    "    elif channel == 'OnlineOther':\n",
    "        return 2\n",
    "    elif channel == 'OfflineOther':\n",
    "        return 3\n",
    "    elif channel == 'OfflineOnlineOther':\n",
    "        return 4\n",
    "    else:\n",
    "        return None\n",
    "\n",
    "channel['online_status'] = channel['sale_channel_standard'].apply(label_online)\n",
    "print('Số lượng gian hàng theo các sale channel:\\n', channel['online_status'].value_counts())"
   ]
  },
  {
   "cell_type": "markdown",
   "metadata": {},
   "source": [
    "Chủ yếu các gian hàng giao dịch qua các kênh khác (90%), các gian hàng có giao dịch online (1,2&4) chiếm khoảng 9.8%."
   ]
  },
  {
   "cell_type": "code",
   "execution_count": 6,
   "metadata": {},
   "outputs": [],
   "source": [
    "# merge với online_ret\n",
    "\n",
    "online_ret = pd.merge(online_ret, channel[['retailer_key','online_status']],\n",
    "                     how = 'left', on =['retailer_key','retailer_key'])"
   ]
  },
  {
   "cell_type": "code",
   "execution_count": 7,
   "metadata": {},
   "outputs": [],
   "source": [
    "# Số lượng gian hàng theo tình trạng phát sinh giao dịch online theo từng ngành hàng\n",
    "online_ind = online_ret.groupby(['v_industry_name','online_status'])['retailer_key'].nunique().reset_index()\n",
    "online_ind = online_ind.pivot(index = 'v_industry_name', columns = 'online_status',\n",
    "                             values = 'retailer_key').fillna(0).reset_index()\n",
    "online_ind['total_ret'] = online_ind[0]+online_ind[1]+online_ind[2]+online_ind[3]+online_ind[4]\n",
    "online_ind['online_per'] = round((online_ind[1]+online_ind[2]+online_ind[4])*100/online_ind['total_ret'],2)\n",
    "online_ind.sort_values('total_ret', inplace = True)\n",
    "\n",
    "# Số lượng gian hàng theo tình trạng kết nối sàn TMĐS KiotViet theo từng ngành hàng\n",
    "connected_ind = online_ret.groupby(['v_industry_name','connected_status'])['retailer_key'].nunique().reset_index()\n",
    "connected_ind = connected_ind.pivot(index='v_industry_name', columns ='connected_status',\n",
    "                                    values = 'retailer_key').fillna(0).reset_index()\n",
    "connected_ind['total_ret'] = connected_ind[0]+connected_ind[1]\n",
    "connected_ind['connected_per'] = round(connected_ind[1]*100/connected_ind['total_ret'],2)\n",
    "connected_ind.sort_values('total_ret', inplace = True)\n",
    "\n",
    "# Số lượng gian hàng theo sử dụng FBPOS theo từng ngành hàng\n",
    "FBPOS_ind = online_ret.groupby(['v_industry_name','fbpos'])['retailer_key'].nunique().reset_index()\n",
    "FBPOS_ind = FBPOS_ind.pivot(index='v_industry_name', columns ='fbpos',\n",
    "                                    values = 'retailer_key').fillna(0).reset_index()\n",
    "FBPOS_ind['total_ret'] = FBPOS_ind[0]+FBPOS_ind[1]\n",
    "FBPOS_ind['FBPOS_per'] = round(FBPOS_ind[1]*100/FBPOS_ind['total_ret'],2)\n",
    "FBPOS_ind.sort_values('total_ret', inplace = True)\n",
    "\n",
    "# Số lượng gian hàng theo sử dụng myKiot theo từng ngành hàng\n",
    "mykiot_ind = online_ret.groupby(['v_industry_name','mykiot'])['retailer_key'].nunique().reset_index()\n",
    "mykiot_ind = mykiot_ind.pivot(index='v_industry_name', columns ='mykiot',\n",
    "                                    values = 'retailer_key').fillna(0).reset_index()\n",
    "mykiot_ind['total_ret'] = mykiot_ind[0]+mykiot_ind[1]\n",
    "mykiot_ind['mykiot_per'] = round(mykiot_ind[1]*100/mykiot_ind['total_ret'],2)\n",
    "mykiot_ind.sort_values('total_ret', inplace = True)"
   ]
  },
  {
   "cell_type": "code",
   "execution_count": 13,
   "metadata": {
    "scrolled": true
   },
   "outputs": [
    {
     "data": {
      "image/png": "[encoded data removed]",
      "text/plain": [
       "<Figure size 1080x360 with 4 Axes>"
      ]
     },
     "metadata": {
      "needs_background": "light"
     },
     "output_type": "display_data"
    }
   ],
   "source": [
    "# Tạo Tornado chart\n",
    "channels = range(0,5)\n",
    "connected = range(0,2)\n",
    "colors1 = ['#034C65', '#EF8C86', '#FCB677', '#64B6AC', '#FEE9E1']\n",
    "colors2 = ['#034C65', '#EF8C86']\n",
    "labels1 = ['Other', 'Online', 'Online+Other', 'Offline+Other', 'Cả 3']\n",
    "labels2 = ['Unconnected', 'Connected']\n",
    "\n",
    "fig = plt.figure(figsize=(15,5))\n",
    "ax1 = fig.add_axes([0.13, 0.09, 0.17, 0.8])\n",
    "ax2 = fig.add_axes([0.33, 0.09, 0.17, 0.8])\n",
    "ax3 = fig.add_axes([0.53, 0.09, 0.17, 0.8])\n",
    "ax4 = fig.add_axes([0.73, 0.09, 0.17, 0.8])\n",
    "\n",
    "left = len(connected_ind) * [0]\n",
    "for idx, connect in enumerate(connected):\n",
    "    ax1.barh(connected_ind.v_industry_name, connected_ind[connect], left = left, color=colors2[idx], align='center')\n",
    "    left = left + connected_ind[connect]\n",
    "ax1.legend(labels2, bbox_to_anchor=([0.5,0.01,0,0]), ncol=2, frameon=False)\n",
    "\n",
    "left = len(online_ind) * [0]\n",
    "for idx, channel in enumerate(channels):\n",
    "    ax2.barh(online_ind.v_industry_name, online_ind[channel], left = left, color=colors1[idx], align = 'center')\n",
    "    left = left + online_ind[channel]\n",
    "ax2.legend(labels1, bbox_to_anchor=([1.0,0.01,0,0]), ncol=3, frameon=False)\n",
    "# ax2.set_xlim(0, 25000)\n",
    "\n",
    "left = len(mykiot_ind) * [0]\n",
    "for idx, connect in enumerate(connected):\n",
    "    ax3.barh(mykiot_ind.v_industry_name, mykiot_ind[connect], left = left, color=colors2[idx], align = 'center')\n",
    "    left = left + mykiot_ind[connect]\n",
    "ax3.legend(labels2, bbox_to_anchor=([1.0,0.01,0,0]), ncol=2, frameon=False)\n",
    "\n",
    "left = len(FBPOS_ind) * [0]\n",
    "for idx, connect in enumerate(connected):\n",
    "    ax4.barh(FBPOS_ind.v_industry_name, FBPOS_ind[connect], left = left, color=colors2[idx], align = 'center')\n",
    "    left = left + FBPOS_ind[connect]\n",
    "ax4.legend(labels2, bbox_to_anchor=([1.0,0.01,0,0]), ncol=2, frameon=False)\n",
    "\n",
    "# Set titles\n",
    "ax1.set_title('Kết nối Sàn TMĐT', x=0.2,y=1.08,fontsize=12)\n",
    "ax2.set_title('Giao dịch online', x=0.3,y=1.08,fontsize=12)\n",
    "ax3.set_title('mykiot', x=0.4,y=1.08,fontsize=12)\n",
    "ax4.set_title('FBPOS', x=0.6,y=1.08,fontsize=12)\n",
    "\n",
    "# hide plot spines\n",
    "for ax in (ax1,ax2,ax3,ax4):\n",
    "    ax.xaxis.set_ticks_position('top')\n",
    "    ax.set_yticks([])\n",
    "    ax.spines['right'].set_visible(False)\n",
    "    ax.spines['left'].set_visible(False)\n",
    "    ax.spines['bottom'].set_visible(False)\n",
    "\n",
    "# center the industry label in the plot\n",
    "transform = transforms.blended_transform_factory(fig.transFigure, ax1.transData)\n",
    "\n",
    "for i, label in enumerate(connected_ind.v_industry_name):\n",
    "    ax1.text(0.12,i,label,ha='right', va='center', transform=transform)\n",
    "    \n",
    "# add text\n",
    "\n",
    "for p, i, j in zip(ax1.patches, connected_ind.connected_per, connected_ind.total_ret):\n",
    "    ax1.annotate(i, \n",
    "                 xy = (j+100, p.get_y()+0.35),\n",
    "                 xytext = (0,0),\n",
    "                 textcoords = 'offset points', ha = 'left',\n",
    "                 size =10)\n",
    "    \n",
    "for p, i, j in zip(ax2.patches, online_ind.online_per, online_ind.total_ret):\n",
    "    ax2.annotate(i, \n",
    "                 xy = (j+100, p.get_y()+0.35),\n",
    "                 xytext = (0,0),\n",
    "                 textcoords = 'offset points', ha = 'left',\n",
    "                 size =10)\n",
    "\n",
    "for p, i, j in zip(ax3.patches, mykiot_ind.mykiot_per, mykiot_ind.total_ret):\n",
    "    ax3.annotate(i, \n",
    "                 xy = (j+100, p.get_y()+0.35),\n",
    "                 xytext = (0,0),\n",
    "                 textcoords = 'offset points', ha = 'left',\n",
    "                 size =10)    \n",
    "for p, i, j in zip(ax4.patches, FBPOS_ind.FBPOS_per, FBPOS_ind.total_ret):\n",
    "    ax4.annotate(i, \n",
    "                 xy = (j+100, p.get_y()+0.35),\n",
    "                 xytext = (0,0),\n",
    "                 textcoords = 'offset points', ha = 'left',\n",
    "                 size =10)     \n",
    "plt.show()"
   ]
  },
  {
   "cell_type": "markdown",
   "metadata": {},
   "source": [
    "Tỷ lệ gian hàng online ở từng ngành hàng khác nhau thể hiện đúng bản chất từng ngàng hàng:\n",
    "* Ngành thời trang có số lượng gian hàng nhiều nhất ở KiotViet, đi kèm với tỷ lệ online cao (Kết nối sàn TMĐT, giao dịch online, mykiot,FBPOS) -> Nhóm ngành có nhiều tiềm năng để go live nhất\n",
    "* Hoa & quà tặngm Sách & VPP, Mẹ & Bé mặc dù có tỷ lệ online cao nhưng số lượng gian hàng thấp -> có tiềm năng nhưng số lượng không nhiều\n",
    "* Một số ngành hàng có nhiều tiềm năng khác như mỹ phẩm, Nông sản & Thực phẩm, Điện tử-điện máy\n",
    "* FnB cũng là 1 ngành có tỷ lệ gian hàng giao dịch online khá nhiều tuy nhiên hiện nay KiotViet chưa có kết nối lên các sàn TMĐT online bán đồ FnB như Foody, Now etc nên số lượng kết nối hiện là 0. \n",
    "\n",
    "## Phân tích ảnh hưởng của các feature đến gian hàng online"
   ]
  },
  {
   "cell_type": "code",
   "execution_count": 9,
   "metadata": {
    "scrolled": false
   },
   "outputs": [
    {
     "data": {
      "text/plain": [
       "Text(0.5, 1.0, 'Correlation giữa gian hàng online và Score theo từng sale channel')"
      ]
     },
     "execution_count": 9,
     "metadata": {},
     "output_type": "execute_result"
    },
    {
     "data": {
      "image/png": "[encoded data removed]",
      "text/plain": [
       "<Figure size 432x288 with 1 Axes>"
      ]
     },
     "metadata": {
      "needs_background": "light"
     },
     "output_type": "display_data"
    }
   ],
   "source": [
    "%matplotlib inline\n",
    "# Tính hệ số score dựa trên số lượng invoice và giá trị invoice của từng gian hàng\n",
    "inv_ret = online_ret.groupby(['retailer_key','sale_channel_standard'])['amount'].sum().reset_index()\n",
    "amount_ret = online_ret.groupby(['retailer_key','sale_channel_standard'])['no_key'].sum().reset_index()\n",
    "inv_amount = pd.merge(inv_ret, amount_ret, how='left', left_on=['retailer_key','sale_channel_standard'], right_on=['retailer_key','sale_channel_standard'])\n",
    "inv_amount['scaled_amount'] = (inv_amount['amount'] - inv_amount['amount'].min())/(inv_amount['amount'].max() - inv_amount['amount'].min())\n",
    "inv_amount['scaled_inv'] = (inv_amount['no_key'] - inv_amount['no_key'].min())/(inv_amount['no_key'].max() - inv_amount['no_key'].min())\n",
    "inv_amount['score'] = (0.5*inv_amount['scaled_amount'] + 0.5*inv_amount['scaled_inv'])*100\n",
    "\n",
    "# Gian hàng online nếu có 1 trong các dấu hiệu online \n",
    "online_ret['online'] = online_ret.apply(lambda row:1 if any(x in [1,2,4] for x in (row['fbpos'],row['mykiot'],row['connected_status'],row['online_status']))\n",
    "                                        else 0, axis=1)\n",
    "# Lấy tình trạng kết nối sàn TMĐT\n",
    "inv_amount = inv_amount.pivot(index='retailer_key', columns='sale_channel_standard', values='score').fillna(0).reset_index()\n",
    "inv_amount = pd.merge(inv_amount, online_ret[['retailer_key','online']].drop_duplicates(), how = 'left',\n",
    "                   on = (['retailer_key','retailer_key']))\n",
    "# tạo box plot correlation\n",
    "sc = ['Offline','Online','Other']\n",
    "inv_amount.corr()['online'][sc].plot.bar()\n",
    "plt.title(\"Correlation giữa gian hàng online và Score theo từng sale channel\")"
   ]
  },
  {
   "cell_type": "markdown",
   "metadata": {},
   "source": [
    "Tình trạng kết nối gian hàng với sàn TMĐT có tương quan nhiều nhất với score của gian hàng phát sinh giao dịch online tuy nhiên chỉ số corr chỉ khoảng 0.16, khá thấp. Điều này phản ảnh ở việc có nhiều gian hàng phát sinh giao dịch online nhưng không kết nối và số lượng giao dịch online không nhiều. Nên nếu feature này làm yếu tố chính để lấy những gian hàng có tiềm năng go live thì sẽ không chính xác lắm.\n",
    "\n",
    "Tiếp theo ta sẽ tìm tương quan giữa các gian hàng online và số lượng sản phẩm"
   ]
  },
  {
   "cell_type": "code",
   "execution_count": 25,
   "metadata": {},
   "outputs": [
    {
     "name": "stdout",
     "output_type": "stream",
     "text": [
      "Correlation giữa gian hàng online và số lượng sản phẩm:  0.07770866678404377\n"
     ]
    }
   ],
   "source": [
    "product = online_ret[['retailer_key','v_industry_name','product','online']].drop_duplicates()\n",
    "print('Correlation giữa gian hàng online và số lượng sản phẩm: ',  product.corr()['online']['product'])"
   ]
  },
  {
   "cell_type": "markdown",
   "metadata": {},
   "source": [
    "Như vậy việc các gian hàng online cũng không có nhiều tương quan với số lượng sản phẩm các gian hàng. Nên thay vì đi tìm các gian hàng online theo tìm kiếm các feature ta sẽ giải quyết bằng cách tìm ra các top sản phẩm của các gian hàng online và tìm ra sự tương tự dựa trên các gian hàng còn lại để tìm kiếm các gian hàng tiềm năng.\n",
    "\n",
    "## Phân tích top sản phẩm các gian hàng online\n",
    "Như phân tích ở trên Thời trang, Mỹ phẩm và Điện tử điện máy đang là những nhóm ngành có tỷ lệ online tốt nhất. Nên từ những nhóm ngành này ta sẽ tìm ra những gian hàng có tiềm năng online dựa trên độ tương tự về sản phẩm."
   ]
  },
  {
   "cell_type": "markdown",
   "metadata": {},
   "source": []
  }
 ],
 "metadata": {
  "kernelspec": {
   "display_name": "Python 3",
   "language": "python",
   "name": "python3"
  },
  "language_info": {
   "codemirror_mode": {
    "name": "ipython",
    "version": 3
   },
   "file_extension": ".py",
   "mimetype": "text/x-python",
   "name": "python",
   "nbconvert_exporter": "python",
   "pygments_lexer": "ipython3",
   "version": "3.8.3"
  }
 },
 "nbformat": 4,
 "nbformat_minor": 4
}
